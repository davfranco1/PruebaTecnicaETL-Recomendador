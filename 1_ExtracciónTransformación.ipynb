{
 "cells": [
  {
   "cell_type": "code",
   "execution_count": 300,
   "metadata": {},
   "outputs": [
    {
     "name": "stdout",
     "output_type": "stream",
     "text": [
      "The autoreload extension is already loaded. To reload it, use:\n",
      "  %reload_ext autoreload\n"
     ]
    }
   ],
   "source": [
    "%load_ext autoreload\n",
    "%autoreload 2\n",
    "\n",
    "# Librerías para tratamiento de datos\n",
    "\n",
    "import pandas as pd\n",
    "pd.set_option('display.max_columns', None) # Parámetro que modifica la visualización de los DFs\n",
    "import numpy as np\n",
    "import re\n",
    "\n",
    "# Librería para el acceso a variables y funciones\n",
    "import sys\n",
    "sys.path.append(\"../\")\n",
    "from src import soporte_funciones as sf #Archivo .py donde encontraremos todas nuestras funciones\n",
    "from src import soporte_variables as sv\n",
    "\n",
    "# Librería para acceder a funcionalidades del sistema operativo\n",
    "import os\n",
    "\n",
    "# Librerías para trabajar con distintos formatos de archivos\n",
    "import pickle\n",
    "import json\n",
    "\n",
    "# Librería para ignorar avisos\n",
    "import warnings\n",
    "warnings.filterwarnings(\"ignore\") # Ignora TODOS los avisos\n",
    "\n",
    "# BeautifulSoup y Selenium\n",
    "from selenium import webdriver  \n",
    "from webdriver_manager.chrome import ChromeDriverManager  \n",
    "from selenium.webdriver.common.keys import Keys  \n",
    "from selenium.webdriver.support.ui import Select \n",
    "from selenium.webdriver.support.ui import WebDriverWait\n",
    "from selenium.webdriver.support import expected_conditions as EC\n",
    "from selenium.common.exceptions import NoSuchElementException \n",
    "import time\n",
    "from bs4 import BeautifulSoup\n",
    "import requests\n",
    "from tqdm import tqdm\n",
    "from time import sleep"
   ]
  },
  {
   "cell_type": "markdown",
   "metadata": {},
   "source": [
    "## Consulta de tipos de contenido"
   ]
  },
  {
   "cell_type": "code",
   "execution_count": 14,
   "metadata": {},
   "outputs": [
    {
     "name": "stdout",
     "output_type": "stream",
     "text": [
      "{'results': [None, 'movie', 'musicVideo', 'podcastEpisode', 'podcastSeries', 'short', 'tvEpisode', 'tvMiniSeries', 'tvMovie', 'tvPilot', 'tvSeries', 'tvShort', 'tvSpecial', 'video', 'videoGame']}\n"
     ]
    }
   ],
   "source": [
    "\n",
    "url = \"https://moviesdatabase.p.rapidapi.com/titles/utils/titleTypes\"\n",
    "\n",
    "headers = {\n",
    "\t\"x-rapidapi-key\": \"e9d53ce8f2msh50c48f79aa0b1b1p1674b7jsn7a3fd4b9a409\",\n",
    "\t\"x-rapidapi-host\": \"moviesdatabase.p.rapidapi.com\"\n",
    "}\n",
    "\n",
    "response = requests.get(url, headers=headers)\n",
    "\n",
    "print(response.json())"
   ]
  },
  {
   "cell_type": "markdown",
   "metadata": {},
   "source": [
    "## Consulta de títulos en API"
   ]
  },
  {
   "cell_type": "markdown",
   "metadata": {},
   "source": [
    "Hago consulta a la API"
   ]
  },
  {
   "cell_type": "code",
   "execution_count": 295,
   "metadata": {},
   "outputs": [
    {
     "name": "stderr",
     "output_type": "stream",
     "text": [
      "Procesando géneros: 100%|██████████| 8/8 [20:11<00:00, 151.44s/it]\n"
     ]
    }
   ],
   "source": [
    "resultados_peliculas = sf.consulta_peliculas(1)"
   ]
  },
  {
   "cell_type": "markdown",
   "metadata": {},
   "source": [
    "Compruebo longitud de resultados (tuplas). Nos quedamos con los datos de 1990."
   ]
  },
  {
   "cell_type": "code",
   "execution_count": 296,
   "metadata": {},
   "outputs": [
    {
     "data": {
      "text/plain": [
       "596"
      ]
     },
     "execution_count": 296,
     "metadata": {},
     "output_type": "execute_result"
    }
   ],
   "source": [
    "len(resultados_peliculas)"
   ]
  },
  {
   "cell_type": "markdown",
   "metadata": {},
   "source": [
    "Almaceno resultados"
   ]
  },
  {
   "cell_type": "code",
   "execution_count": 330,
   "metadata": {},
   "outputs": [],
   "source": [
    "with open('datos/resultados_peliculas.pkl', 'wb') as f:\n",
    "    pickle.dump(resultados_peliculas, f)"
   ]
  },
  {
   "cell_type": "markdown",
   "metadata": {},
   "source": [
    "Creo lista con IDs"
   ]
  },
  {
   "cell_type": "code",
   "execution_count": 313,
   "metadata": {},
   "outputs": [],
   "source": [
    "lista_ids = []\n",
    "\n",
    "for resultado in resultados_peliculas:\n",
    "    lista_ids.append(resultado[0])"
   ]
  },
  {
   "cell_type": "markdown",
   "metadata": {},
   "source": [
    "Confirmo que coinciden"
   ]
  },
  {
   "cell_type": "code",
   "execution_count": 315,
   "metadata": {},
   "outputs": [
    {
     "data": {
      "text/plain": [
       "596"
      ]
     },
     "execution_count": 315,
     "metadata": {},
     "output_type": "execute_result"
    }
   ],
   "source": [
    "len(lista_ids)"
   ]
  },
  {
   "cell_type": "markdown",
   "metadata": {},
   "source": [
    "## Enriquecimiento de datos con scraping de IMBD"
   ]
  },
  {
   "cell_type": "markdown",
   "metadata": {},
   "source": [
    "Extraemos la información que buscamos."
   ]
  },
  {
   "cell_type": "code",
   "execution_count": 325,
   "metadata": {},
   "outputs": [
    {
     "name": "stdout",
     "output_type": "stream",
     "text": [
      "Cookies aceptadas\n"
     ]
    },
    {
     "name": "stderr",
     "output_type": "stream",
     "text": [
      "100%|██████████| 596/596 [53:23<00:00,  5.37s/it]\n"
     ]
    },
    {
     "name": "stdout",
     "output_type": "stream",
     "text": [
      "Scraping finalizado\n"
     ]
    }
   ],
   "source": [
    "sopas = sf.scrap_imdb(lista_ids)"
   ]
  },
  {
   "cell_type": "markdown",
   "metadata": {},
   "source": [
    "No todos los IDs extraídos existen en IMDB, resultando en menos coincidencias."
   ]
  },
  {
   "cell_type": "code",
   "execution_count": 327,
   "metadata": {},
   "outputs": [
    {
     "data": {
      "text/plain": [
       "367"
      ]
     },
     "execution_count": 327,
     "metadata": {},
     "output_type": "execute_result"
    }
   ],
   "source": [
    "len(sopas)"
   ]
  },
  {
   "cell_type": "markdown",
   "metadata": {},
   "source": [
    "Guardamos el conjunto."
   ]
  },
  {
   "cell_type": "code",
   "execution_count": 328,
   "metadata": {},
   "outputs": [],
   "source": [
    "with open('datos/resultados_scraping.pkl', 'wb') as f:\n",
    "    pickle.dump(sopas, f)"
   ]
  },
  {
   "cell_type": "markdown",
   "metadata": {},
   "source": [
    "## Preparamos los datos para la inserción en la DDBB"
   ]
  },
  {
   "cell_type": "code",
   "execution_count": 340,
   "metadata": {},
   "outputs": [
    {
     "data": {
      "text/html": [
       "<div>\n",
       "<style scoped>\n",
       "    .dataframe tbody tr th:only-of-type {\n",
       "        vertical-align: middle;\n",
       "    }\n",
       "\n",
       "    .dataframe tbody tr th {\n",
       "        vertical-align: top;\n",
       "    }\n",
       "\n",
       "    .dataframe thead th {\n",
       "        text-align: right;\n",
       "    }\n",
       "</style>\n",
       "<table border=\"1\" class=\"dataframe\">\n",
       "  <thead>\n",
       "    <tr style=\"text-align: right;\">\n",
       "      <th></th>\n",
       "      <th>id</th>\n",
       "      <th>calificacion</th>\n",
       "      <th>director</th>\n",
       "      <th>guion</th>\n",
       "      <th>argumento</th>\n",
       "      <th>duracion</th>\n",
       "    </tr>\n",
       "  </thead>\n",
       "  <tbody>\n",
       "    <tr>\n",
       "      <th>0</th>\n",
       "      <td>tt0059325</td>\n",
       "      <td>6.5</td>\n",
       "      <td>Jürgen Böttcher</td>\n",
       "      <td>Jürgen BöttcherKlaus Poche</td>\n",
       "      <td>DDR film from the mid-60s: Li and Al, not long...</td>\n",
       "      <td>1h 40m</td>\n",
       "    </tr>\n",
       "    <tr>\n",
       "      <th>1</th>\n",
       "      <td>tt0059900</td>\n",
       "      <td>6.5</td>\n",
       "      <td>Egon Günther</td>\n",
       "      <td>Egon GüntherHelga Schütz</td>\n",
       "      <td>Adam receives a flashlight with special powers...</td>\n",
       "      <td>1h 18m</td>\n",
       "    </tr>\n",
       "    <tr>\n",
       "      <th>2</th>\n",
       "      <td>tt0065188</td>\n",
       "      <td>6.5</td>\n",
       "      <td>Zdenek Tyc</td>\n",
       "      <td>Jaromir KacerJirí SoukupZdenek Tyc</td>\n",
       "      <td></td>\n",
       "      <td>1h 20m</td>\n",
       "    </tr>\n",
       "    <tr>\n",
       "      <th>3</th>\n",
       "      <td>tt0068494</td>\n",
       "      <td>5.0</td>\n",
       "      <td>Arch Oboler</td>\n",
       "      <td>Arch Oboler</td>\n",
       "      <td>A young college student and a former G.I. on h...</td>\n",
       "      <td>R</td>\n",
       "    </tr>\n",
       "    <tr>\n",
       "      <th>4</th>\n",
       "      <td>tt0075259</td>\n",
       "      <td>5.7</td>\n",
       "      <td>Lindsay Shonteff</td>\n",
       "      <td>Len Deighton</td>\n",
       "      <td>A British spy is framed, so he must evade the ...</td>\n",
       "      <td>1h 43m</td>\n",
       "    </tr>\n",
       "    <tr>\n",
       "      <th>...</th>\n",
       "      <td>...</td>\n",
       "      <td>...</td>\n",
       "      <td>...</td>\n",
       "      <td>...</td>\n",
       "      <td>...</td>\n",
       "      <td>...</td>\n",
       "    </tr>\n",
       "    <tr>\n",
       "      <th>362</th>\n",
       "      <td>tt0100705</td>\n",
       "      <td>5.0</td>\n",
       "      <td>Gregory Dark</td>\n",
       "      <td>Gregory DarkJohn Powers</td>\n",
       "      <td>John Miller is an politician wanting to become...</td>\n",
       "      <td>R</td>\n",
       "    </tr>\n",
       "    <tr>\n",
       "      <th>363</th>\n",
       "      <td>tt0099216</td>\n",
       "      <td>5.8</td>\n",
       "      <td>Lincoln Kupchak</td>\n",
       "      <td>Lincoln Kupchak</td>\n",
       "      <td>Woman is stalked by her demented boyfriend on ...</td>\n",
       "      <td>3m</td>\n",
       "    </tr>\n",
       "    <tr>\n",
       "      <th>364</th>\n",
       "      <td>tt0151585</td>\n",
       "      <td>6.9</td>\n",
       "      <td>Álex de la Iglesia</td>\n",
       "      <td>Jorge GuerricaechevarríaÁlex de la Iglesia</td>\n",
       "      <td>A man comes into a bar in which there's only o...</td>\n",
       "      <td>12m</td>\n",
       "    </tr>\n",
       "    <tr>\n",
       "      <th>365</th>\n",
       "      <td>tt1341308</td>\n",
       "      <td>6.4</td>\n",
       "      <td>Fred Gallo</td>\n",
       "      <td>Tracy BaroneElisa Bell</td>\n",
       "      <td></td>\n",
       "      <td>24m</td>\n",
       "    </tr>\n",
       "    <tr>\n",
       "      <th>366</th>\n",
       "      <td>tt1772810</td>\n",
       "      <td>6.7</td>\n",
       "      <td>Philippe Sisbane</td>\n",
       "      <td>Philippe Sisbane</td>\n",
       "      <td>A man, Daniel, notices strange similarities an...</td>\n",
       "      <td>17m</td>\n",
       "    </tr>\n",
       "  </tbody>\n",
       "</table>\n",
       "<p>367 rows × 6 columns</p>\n",
       "</div>"
      ],
      "text/plain": [
       "            id calificacion            director  \\\n",
       "0    tt0059325          6.5     Jürgen Böttcher   \n",
       "1    tt0059900          6.5        Egon Günther   \n",
       "2    tt0065188          6.5          Zdenek Tyc   \n",
       "3    tt0068494          5.0         Arch Oboler   \n",
       "4    tt0075259          5.7    Lindsay Shonteff   \n",
       "..         ...          ...                 ...   \n",
       "362  tt0100705          5.0        Gregory Dark   \n",
       "363  tt0099216          5.8     Lincoln Kupchak   \n",
       "364  tt0151585          6.9  Álex de la Iglesia   \n",
       "365  tt1341308          6.4          Fred Gallo   \n",
       "366  tt1772810          6.7    Philippe Sisbane   \n",
       "\n",
       "                                          guion  \\\n",
       "0                    Jürgen BöttcherKlaus Poche   \n",
       "1                      Egon GüntherHelga Schütz   \n",
       "2            Jaromir KacerJirí SoukupZdenek Tyc   \n",
       "3                                   Arch Oboler   \n",
       "4                                  Len Deighton   \n",
       "..                                          ...   \n",
       "362                     Gregory DarkJohn Powers   \n",
       "363                             Lincoln Kupchak   \n",
       "364  Jorge GuerricaechevarríaÁlex de la Iglesia   \n",
       "365                      Tracy BaroneElisa Bell   \n",
       "366                            Philippe Sisbane   \n",
       "\n",
       "                                             argumento duracion  \n",
       "0    DDR film from the mid-60s: Li and Al, not long...   1h 40m  \n",
       "1    Adam receives a flashlight with special powers...   1h 18m  \n",
       "2                                                        1h 20m  \n",
       "3    A young college student and a former G.I. on h...        R  \n",
       "4    A British spy is framed, so he must evade the ...   1h 43m  \n",
       "..                                                 ...      ...  \n",
       "362  John Miller is an politician wanting to become...        R  \n",
       "363  Woman is stalked by her demented boyfriend on ...       3m  \n",
       "364  A man comes into a bar in which there's only o...      12m  \n",
       "365                                                         24m  \n",
       "366  A man, Daniel, notices strange similarities an...      17m  \n",
       "\n",
       "[367 rows x 6 columns]"
      ]
     },
     "execution_count": 340,
     "metadata": {},
     "output_type": "execute_result"
    }
   ],
   "source": [
    "df1 = pd.DataFrame(sopas)\n",
    "df1.columns = \"id\", \"calificacion\", \"director\", \"guion\", \"argumento\", \"duracion\"\n",
    "df1.head()"
   ]
  },
  {
   "cell_type": "code",
   "execution_count": 357,
   "metadata": {},
   "outputs": [
    {
     "data": {
      "text/html": [
       "<div>\n",
       "<style scoped>\n",
       "    .dataframe tbody tr th:only-of-type {\n",
       "        vertical-align: middle;\n",
       "    }\n",
       "\n",
       "    .dataframe tbody tr th {\n",
       "        vertical-align: top;\n",
       "    }\n",
       "\n",
       "    .dataframe thead th {\n",
       "        text-align: right;\n",
       "    }\n",
       "</style>\n",
       "<table border=\"1\" class=\"dataframe\">\n",
       "  <thead>\n",
       "    <tr style=\"text-align: right;\">\n",
       "      <th></th>\n",
       "      <th>id</th>\n",
       "      <th>nombre</th>\n",
       "      <th>tipo</th>\n",
       "      <th>anio</th>\n",
       "      <th>mes</th>\n",
       "      <th>genero</th>\n",
       "    </tr>\n",
       "  </thead>\n",
       "  <tbody>\n",
       "    <tr>\n",
       "      <th>0</th>\n",
       "      <td>tt0059325</td>\n",
       "      <td>Jahrgang 45</td>\n",
       "      <td>Movie</td>\n",
       "      <td>1990</td>\n",
       "      <td>10</td>\n",
       "      <td>Drama</td>\n",
       "    </tr>\n",
       "    <tr>\n",
       "      <th>1</th>\n",
       "      <td>tt0059900</td>\n",
       "      <td>Wenn du groß bist, lieber Adam</td>\n",
       "      <td>Movie</td>\n",
       "      <td>1990</td>\n",
       "      <td>10</td>\n",
       "      <td>Drama</td>\n",
       "    </tr>\n",
       "    <tr>\n",
       "      <th>2</th>\n",
       "      <td>tt0065188</td>\n",
       "      <td>Vojtech, receny sirotek</td>\n",
       "      <td>Movie</td>\n",
       "      <td>1990</td>\n",
       "      <td>10</td>\n",
       "      <td>Drama</td>\n",
       "    </tr>\n",
       "    <tr>\n",
       "      <th>3</th>\n",
       "      <td>tt0068494</td>\n",
       "      <td>Domo Arigato</td>\n",
       "      <td>Movie</td>\n",
       "      <td>1990</td>\n",
       "      <td>8</td>\n",
       "      <td>Drama</td>\n",
       "    </tr>\n",
       "    <tr>\n",
       "      <th>4</th>\n",
       "      <td>tt0075259</td>\n",
       "      <td>Spy Story</td>\n",
       "      <td>Movie</td>\n",
       "      <td>1990</td>\n",
       "      <td>3</td>\n",
       "      <td>Drama</td>\n",
       "    </tr>\n",
       "  </tbody>\n",
       "</table>\n",
       "</div>"
      ],
      "text/plain": [
       "          id                          nombre   tipo  anio mes genero\n",
       "0  tt0059325                     Jahrgang 45  Movie  1990  10  Drama\n",
       "1  tt0059900  Wenn du groß bist, lieber Adam  Movie  1990  10  Drama\n",
       "2  tt0065188         Vojtech, receny sirotek  Movie  1990  10  Drama\n",
       "3  tt0068494                    Domo Arigato  Movie  1990   8  Drama\n",
       "4  tt0075259                       Spy Story  Movie  1990   3  Drama"
      ]
     },
     "execution_count": 357,
     "metadata": {},
     "output_type": "execute_result"
    }
   ],
   "source": [
    "df2 = pd.DataFrame(resultados_peliculas)\n",
    "df2.columns = \"id\", \"nombre\", \"tipo\", \"anio\", \"mes\", \"genero\"\n",
    "df2.head()"
   ]
  },
  {
   "cell_type": "markdown",
   "metadata": {},
   "source": [
    "Mapeo para crear IDs del tipo de contenido: movie 1 short 2, y cambio a minutos."
   ]
  },
  {
   "cell_type": "code",
   "execution_count": 441,
   "metadata": {},
   "outputs": [
    {
     "data": {
      "text/html": [
       "<div>\n",
       "<style scoped>\n",
       "    .dataframe tbody tr th:only-of-type {\n",
       "        vertical-align: middle;\n",
       "    }\n",
       "\n",
       "    .dataframe tbody tr th {\n",
       "        vertical-align: top;\n",
       "    }\n",
       "\n",
       "    .dataframe thead th {\n",
       "        text-align: right;\n",
       "    }\n",
       "</style>\n",
       "<table border=\"1\" class=\"dataframe\">\n",
       "  <thead>\n",
       "    <tr style=\"text-align: right;\">\n",
       "      <th></th>\n",
       "      <th>id</th>\n",
       "      <th>nombre</th>\n",
       "      <th>tipo</th>\n",
       "      <th>anio</th>\n",
       "      <th>mes</th>\n",
       "      <th>genero</th>\n",
       "      <th>calificacion</th>\n",
       "      <th>director</th>\n",
       "      <th>guion</th>\n",
       "      <th>argumento</th>\n",
       "      <th>duracion</th>\n",
       "      <th>minutos</th>\n",
       "      <th>id_tipo</th>\n",
       "    </tr>\n",
       "  </thead>\n",
       "  <tbody>\n",
       "    <tr>\n",
       "      <th>0</th>\n",
       "      <td>tt0059325</td>\n",
       "      <td>Jahrgang 45</td>\n",
       "      <td>Movie</td>\n",
       "      <td>1990</td>\n",
       "      <td>10</td>\n",
       "      <td>Drama</td>\n",
       "      <td>6.5</td>\n",
       "      <td>Jürgen Böttcher</td>\n",
       "      <td>Jürgen BöttcherKlaus Poche</td>\n",
       "      <td>DDR film from the mid-60s: Li and Al, not long...</td>\n",
       "      <td>1h 40m</td>\n",
       "      <td>100</td>\n",
       "      <td>1</td>\n",
       "    </tr>\n",
       "    <tr>\n",
       "      <th>1</th>\n",
       "      <td>tt0059325</td>\n",
       "      <td>Jahrgang 45</td>\n",
       "      <td>Movie</td>\n",
       "      <td>1990</td>\n",
       "      <td>10</td>\n",
       "      <td>Drama</td>\n",
       "      <td>6.5</td>\n",
       "      <td>Jürgen Böttcher</td>\n",
       "      <td>Jürgen BöttcherKlaus Poche</td>\n",
       "      <td>DDR film from the mid-60s: Li and Al, not long...</td>\n",
       "      <td>1h 40m</td>\n",
       "      <td>100</td>\n",
       "      <td>1</td>\n",
       "    </tr>\n",
       "    <tr>\n",
       "      <th>2</th>\n",
       "      <td>tt0059900</td>\n",
       "      <td>Wenn du groß bist, lieber Adam</td>\n",
       "      <td>Movie</td>\n",
       "      <td>1990</td>\n",
       "      <td>10</td>\n",
       "      <td>Drama</td>\n",
       "      <td>6.5</td>\n",
       "      <td>Egon Günther</td>\n",
       "      <td>Egon GüntherHelga Schütz</td>\n",
       "      <td>Adam receives a flashlight with special powers...</td>\n",
       "      <td>1h 18m</td>\n",
       "      <td>78</td>\n",
       "      <td>1</td>\n",
       "    </tr>\n",
       "    <tr>\n",
       "      <th>3</th>\n",
       "      <td>tt0059900</td>\n",
       "      <td>Wenn du groß bist, lieber Adam</td>\n",
       "      <td>Movie</td>\n",
       "      <td>1990</td>\n",
       "      <td>10</td>\n",
       "      <td>Drama</td>\n",
       "      <td>6.5</td>\n",
       "      <td>Egon Günther</td>\n",
       "      <td>Egon GüntherHelga Schütz</td>\n",
       "      <td>Adam receives a flashlight with special powers...</td>\n",
       "      <td>1h 18m</td>\n",
       "      <td>78</td>\n",
       "      <td>1</td>\n",
       "    </tr>\n",
       "    <tr>\n",
       "      <th>4</th>\n",
       "      <td>tt0065188</td>\n",
       "      <td>Vojtech, receny sirotek</td>\n",
       "      <td>Movie</td>\n",
       "      <td>1990</td>\n",
       "      <td>10</td>\n",
       "      <td>Drama</td>\n",
       "      <td>6.5</td>\n",
       "      <td>Zdenek Tyc</td>\n",
       "      <td>Jaromir KacerJirí SoukupZdenek Tyc</td>\n",
       "      <td></td>\n",
       "      <td>1h 20m</td>\n",
       "      <td>80</td>\n",
       "      <td>1</td>\n",
       "    </tr>\n",
       "  </tbody>\n",
       "</table>\n",
       "</div>"
      ],
      "text/plain": [
       "          id                          nombre   tipo  anio mes genero  \\\n",
       "0  tt0059325                     Jahrgang 45  Movie  1990  10  Drama   \n",
       "1  tt0059325                     Jahrgang 45  Movie  1990  10  Drama   \n",
       "2  tt0059900  Wenn du groß bist, lieber Adam  Movie  1990  10  Drama   \n",
       "3  tt0059900  Wenn du groß bist, lieber Adam  Movie  1990  10  Drama   \n",
       "4  tt0065188         Vojtech, receny sirotek  Movie  1990  10  Drama   \n",
       "\n",
       "  calificacion         director                               guion  \\\n",
       "0          6.5  Jürgen Böttcher          Jürgen BöttcherKlaus Poche   \n",
       "1          6.5  Jürgen Böttcher          Jürgen BöttcherKlaus Poche   \n",
       "2          6.5     Egon Günther            Egon GüntherHelga Schütz   \n",
       "3          6.5     Egon Günther            Egon GüntherHelga Schütz   \n",
       "4          6.5       Zdenek Tyc  Jaromir KacerJirí SoukupZdenek Tyc   \n",
       "\n",
       "                                           argumento duracion  minutos  \\\n",
       "0  DDR film from the mid-60s: Li and Al, not long...   1h 40m      100   \n",
       "1  DDR film from the mid-60s: Li and Al, not long...   1h 40m      100   \n",
       "2  Adam receives a flashlight with special powers...   1h 18m       78   \n",
       "3  Adam receives a flashlight with special powers...   1h 18m       78   \n",
       "4                                                      1h 20m       80   \n",
       "\n",
       "   id_tipo  \n",
       "0        1  \n",
       "1        1  \n",
       "2        1  \n",
       "3        1  \n",
       "4        1  "
      ]
     },
     "execution_count": 441,
     "metadata": {},
     "output_type": "execute_result"
    }
   ],
   "source": [
    "df_merged = pd.merge(right= df1, left=df2)\n",
    "df_merged[\"id_tipo\"] = df_merged[\"tipo\"].map({\"Movie\":1, \"Short\": 2})\n",
    "df_merged.head()"
   ]
  },
  {
   "cell_type": "code",
   "execution_count": 442,
   "metadata": {},
   "outputs": [],
   "source": [
    "df_merged.drop_duplicates(inplace=True)"
   ]
  },
  {
   "cell_type": "code",
   "execution_count": 443,
   "metadata": {},
   "outputs": [],
   "source": [
    "df_merged.fillna(\"0\", inplace=True)"
   ]
  },
  {
   "cell_type": "code",
   "execution_count": 444,
   "metadata": {},
   "outputs": [
    {
     "data": {
      "text/html": [
       "<div>\n",
       "<style scoped>\n",
       "    .dataframe tbody tr th:only-of-type {\n",
       "        vertical-align: middle;\n",
       "    }\n",
       "\n",
       "    .dataframe tbody tr th {\n",
       "        vertical-align: top;\n",
       "    }\n",
       "\n",
       "    .dataframe thead th {\n",
       "        text-align: right;\n",
       "    }\n",
       "</style>\n",
       "<table border=\"1\" class=\"dataframe\">\n",
       "  <thead>\n",
       "    <tr style=\"text-align: right;\">\n",
       "      <th></th>\n",
       "      <th>id_director</th>\n",
       "      <th>nombre</th>\n",
       "    </tr>\n",
       "  </thead>\n",
       "  <tbody>\n",
       "    <tr>\n",
       "      <th>0</th>\n",
       "      <td>0</td>\n",
       "      <td>Jürgen Böttcher</td>\n",
       "    </tr>\n",
       "    <tr>\n",
       "      <th>1</th>\n",
       "      <td>1</td>\n",
       "      <td>Egon Günther</td>\n",
       "    </tr>\n",
       "    <tr>\n",
       "      <th>2</th>\n",
       "      <td>2</td>\n",
       "      <td>Zdenek Tyc</td>\n",
       "    </tr>\n",
       "    <tr>\n",
       "      <th>3</th>\n",
       "      <td>3</td>\n",
       "      <td>Arch Oboler</td>\n",
       "    </tr>\n",
       "    <tr>\n",
       "      <th>4</th>\n",
       "      <td>4</td>\n",
       "      <td>Lindsay Shonteff</td>\n",
       "    </tr>\n",
       "  </tbody>\n",
       "</table>\n",
       "</div>"
      ],
      "text/plain": [
       "   id_director            nombre\n",
       "0            0   Jürgen Böttcher\n",
       "1            1      Egon Günther\n",
       "2            2        Zdenek Tyc\n",
       "3            3       Arch Oboler\n",
       "4            4  Lindsay Shonteff"
      ]
     },
     "execution_count": 444,
     "metadata": {},
     "output_type": "execute_result"
    }
   ],
   "source": [
    "df_dict = pd.DataFrame(df_merged[\"director\"].unique()).reset_index()\n",
    "df_dict.columns = \"id_director\", \"nombre\"\n",
    "df_dict.head()"
   ]
  },
  {
   "cell_type": "code",
   "execution_count": 445,
   "metadata": {},
   "outputs": [
    {
     "data": {
      "text/html": [
       "<div>\n",
       "<style scoped>\n",
       "    .dataframe tbody tr th:only-of-type {\n",
       "        vertical-align: middle;\n",
       "    }\n",
       "\n",
       "    .dataframe tbody tr th {\n",
       "        vertical-align: top;\n",
       "    }\n",
       "\n",
       "    .dataframe thead th {\n",
       "        text-align: right;\n",
       "    }\n",
       "</style>\n",
       "<table border=\"1\" class=\"dataframe\">\n",
       "  <thead>\n",
       "    <tr style=\"text-align: right;\">\n",
       "      <th></th>\n",
       "      <th>id_contenido</th>\n",
       "      <th>nombre</th>\n",
       "      <th>id_tipo</th>\n",
       "      <th>id_director</th>\n",
       "    </tr>\n",
       "  </thead>\n",
       "  <tbody>\n",
       "    <tr>\n",
       "      <th>0</th>\n",
       "      <td>tt0059325</td>\n",
       "      <td>Jahrgang 45</td>\n",
       "      <td>1</td>\n",
       "      <td>0</td>\n",
       "    </tr>\n",
       "    <tr>\n",
       "      <th>1</th>\n",
       "      <td>tt0059900</td>\n",
       "      <td>Wenn du groß bist, lieber Adam</td>\n",
       "      <td>1</td>\n",
       "      <td>1</td>\n",
       "    </tr>\n",
       "    <tr>\n",
       "      <th>2</th>\n",
       "      <td>tt0065188</td>\n",
       "      <td>Vojtech, receny sirotek</td>\n",
       "      <td>1</td>\n",
       "      <td>2</td>\n",
       "    </tr>\n",
       "    <tr>\n",
       "      <th>3</th>\n",
       "      <td>tt0068494</td>\n",
       "      <td>Domo Arigato</td>\n",
       "      <td>1</td>\n",
       "      <td>3</td>\n",
       "    </tr>\n",
       "    <tr>\n",
       "      <th>4</th>\n",
       "      <td>tt0075259</td>\n",
       "      <td>Spy Story</td>\n",
       "      <td>1</td>\n",
       "      <td>4</td>\n",
       "    </tr>\n",
       "  </tbody>\n",
       "</table>\n",
       "</div>"
      ],
      "text/plain": [
       "  id_contenido                          nombre  id_tipo  id_director\n",
       "0    tt0059325                     Jahrgang 45        1            0\n",
       "1    tt0059900  Wenn du groß bist, lieber Adam        1            1\n",
       "2    tt0065188         Vojtech, receny sirotek        1            2\n",
       "3    tt0068494                    Domo Arigato        1            3\n",
       "4    tt0075259                       Spy Story        1            4"
      ]
     },
     "execution_count": 445,
     "metadata": {},
     "output_type": "execute_result"
    }
   ],
   "source": [
    "df_contenido = pd.merge(right= df_dict, right_on=\"nombre\", left=df_merged, left_on=\"director\")\n",
    "df_contenido = df_contenido[[\"id\", \"nombre_x\", \"id_tipo\", \"id_director\"]]\n",
    "df_contenido.columns = \"id_contenido\", \"nombre\", \"id_tipo\", \"id_director\"\n",
    "df_contenido.head()"
   ]
  },
  {
   "cell_type": "code",
   "execution_count": 446,
   "metadata": {},
   "outputs": [],
   "source": [
    "df_contenido.to_csv(\"datos/contenido.csv\")"
   ]
  },
  {
   "cell_type": "code",
   "execution_count": 447,
   "metadata": {},
   "outputs": [
    {
     "data": {
      "text/html": [
       "<div>\n",
       "<style scoped>\n",
       "    .dataframe tbody tr th:only-of-type {\n",
       "        vertical-align: middle;\n",
       "    }\n",
       "\n",
       "    .dataframe tbody tr th {\n",
       "        vertical-align: top;\n",
       "    }\n",
       "\n",
       "    .dataframe thead th {\n",
       "        text-align: right;\n",
       "    }\n",
       "</style>\n",
       "<table border=\"1\" class=\"dataframe\">\n",
       "  <thead>\n",
       "    <tr style=\"text-align: right;\">\n",
       "      <th></th>\n",
       "      <th>id</th>\n",
       "      <th>guion</th>\n",
       "      <th>anio</th>\n",
       "      <th>mes</th>\n",
       "      <th>minutos</th>\n",
       "      <th>calificacion</th>\n",
       "      <th>argumento</th>\n",
       "    </tr>\n",
       "  </thead>\n",
       "  <tbody>\n",
       "    <tr>\n",
       "      <th>0</th>\n",
       "      <td>tt0059325</td>\n",
       "      <td>Jürgen BöttcherKlaus Poche</td>\n",
       "      <td>1990</td>\n",
       "      <td>10</td>\n",
       "      <td>100</td>\n",
       "      <td>6.5</td>\n",
       "      <td>DDR film from the mid-60s: Li and Al, not long...</td>\n",
       "    </tr>\n",
       "    <tr>\n",
       "      <th>2</th>\n",
       "      <td>tt0059900</td>\n",
       "      <td>Egon GüntherHelga Schütz</td>\n",
       "      <td>1990</td>\n",
       "      <td>10</td>\n",
       "      <td>78</td>\n",
       "      <td>6.5</td>\n",
       "      <td>Adam receives a flashlight with special powers...</td>\n",
       "    </tr>\n",
       "    <tr>\n",
       "      <th>4</th>\n",
       "      <td>tt0065188</td>\n",
       "      <td>Jaromir KacerJirí SoukupZdenek Tyc</td>\n",
       "      <td>1990</td>\n",
       "      <td>10</td>\n",
       "      <td>80</td>\n",
       "      <td>6.5</td>\n",
       "      <td></td>\n",
       "    </tr>\n",
       "    <tr>\n",
       "      <th>5</th>\n",
       "      <td>tt0068494</td>\n",
       "      <td>Arch Oboler</td>\n",
       "      <td>1990</td>\n",
       "      <td>8</td>\n",
       "      <td>0</td>\n",
       "      <td>5.0</td>\n",
       "      <td>A young college student and a former G.I. on h...</td>\n",
       "    </tr>\n",
       "    <tr>\n",
       "      <th>6</th>\n",
       "      <td>tt0075259</td>\n",
       "      <td>Len Deighton</td>\n",
       "      <td>1990</td>\n",
       "      <td>3</td>\n",
       "      <td>103</td>\n",
       "      <td>5.7</td>\n",
       "      <td>A British spy is framed, so he must evade the ...</td>\n",
       "    </tr>\n",
       "  </tbody>\n",
       "</table>\n",
       "</div>"
      ],
      "text/plain": [
       "          id                               guion  anio mes  minutos  \\\n",
       "0  tt0059325          Jürgen BöttcherKlaus Poche  1990  10      100   \n",
       "2  tt0059900            Egon GüntherHelga Schütz  1990  10       78   \n",
       "4  tt0065188  Jaromir KacerJirí SoukupZdenek Tyc  1990  10       80   \n",
       "5  tt0068494                         Arch Oboler  1990   8        0   \n",
       "6  tt0075259                        Len Deighton  1990   3      103   \n",
       "\n",
       "  calificacion                                          argumento  \n",
       "0          6.5  DDR film from the mid-60s: Li and Al, not long...  \n",
       "2          6.5  Adam receives a flashlight with special powers...  \n",
       "4          6.5                                                     \n",
       "5          5.0  A young college student and a former G.I. on h...  \n",
       "6          5.7  A British spy is framed, so he must evade the ...  "
      ]
     },
     "execution_count": 447,
     "metadata": {},
     "output_type": "execute_result"
    }
   ],
   "source": [
    "df_caracteristicas = df_merged[[\"id\", \"guion\", \"anio\", \"mes\", \"minutos\", \"calificacion\", \"argumento\"]]\n",
    "df_caracteristicas.head()"
   ]
  },
  {
   "cell_type": "code",
   "execution_count": 448,
   "metadata": {},
   "outputs": [],
   "source": [
    "df_caracteristicas.to_csv(\"datos/caracteristicas.csv\")"
   ]
  },
  {
   "cell_type": "code",
   "execution_count": 449,
   "metadata": {},
   "outputs": [
    {
     "data": {
      "text/html": [
       "<div>\n",
       "<style scoped>\n",
       "    .dataframe tbody tr th:only-of-type {\n",
       "        vertical-align: middle;\n",
       "    }\n",
       "\n",
       "    .dataframe tbody tr th {\n",
       "        vertical-align: top;\n",
       "    }\n",
       "\n",
       "    .dataframe thead th {\n",
       "        text-align: right;\n",
       "    }\n",
       "</style>\n",
       "<table border=\"1\" class=\"dataframe\">\n",
       "  <thead>\n",
       "    <tr style=\"text-align: right;\">\n",
       "      <th></th>\n",
       "      <th>id_tipo</th>\n",
       "      <th>nombre</th>\n",
       "    </tr>\n",
       "  </thead>\n",
       "  <tbody>\n",
       "    <tr>\n",
       "      <th>0</th>\n",
       "      <td>1</td>\n",
       "      <td>Movie</td>\n",
       "    </tr>\n",
       "    <tr>\n",
       "      <th>1</th>\n",
       "      <td>2</td>\n",
       "      <td>Short</td>\n",
       "    </tr>\n",
       "  </tbody>\n",
       "</table>\n",
       "</div>"
      ],
      "text/plain": [
       "   id_tipo nombre\n",
       "0        1  Movie\n",
       "1        2  Short"
      ]
     },
     "execution_count": 449,
     "metadata": {},
     "output_type": "execute_result"
    }
   ],
   "source": [
    "df_tipo = pd.DataFrame({1:[\"Movie\"], 2:[\"Short\"]}).T\n",
    "df_tipo.reset_index(inplace=True)\n",
    "df_tipo.columns = \"id_tipo\", \"nombre\"\n",
    "df_tipo"
   ]
  },
  {
   "cell_type": "code",
   "execution_count": 450,
   "metadata": {},
   "outputs": [],
   "source": [
    "df_tipo.to_csv(\"datos/tipo.csv\")"
   ]
  },
  {
   "cell_type": "code",
   "execution_count": 451,
   "metadata": {},
   "outputs": [
    {
     "data": {
      "text/html": [
       "<div>\n",
       "<style scoped>\n",
       "    .dataframe tbody tr th:only-of-type {\n",
       "        vertical-align: middle;\n",
       "    }\n",
       "\n",
       "    .dataframe tbody tr th {\n",
       "        vertical-align: top;\n",
       "    }\n",
       "\n",
       "    .dataframe thead th {\n",
       "        text-align: right;\n",
       "    }\n",
       "</style>\n",
       "<table border=\"1\" class=\"dataframe\">\n",
       "  <thead>\n",
       "    <tr style=\"text-align: right;\">\n",
       "      <th></th>\n",
       "      <th>id_director</th>\n",
       "      <th>nombre</th>\n",
       "    </tr>\n",
       "  </thead>\n",
       "  <tbody>\n",
       "    <tr>\n",
       "      <th>0</th>\n",
       "      <td>0</td>\n",
       "      <td>Jürgen Böttcher</td>\n",
       "    </tr>\n",
       "    <tr>\n",
       "      <th>1</th>\n",
       "      <td>1</td>\n",
       "      <td>Egon Günther</td>\n",
       "    </tr>\n",
       "    <tr>\n",
       "      <th>2</th>\n",
       "      <td>2</td>\n",
       "      <td>Zdenek Tyc</td>\n",
       "    </tr>\n",
       "    <tr>\n",
       "      <th>3</th>\n",
       "      <td>3</td>\n",
       "      <td>Arch Oboler</td>\n",
       "    </tr>\n",
       "    <tr>\n",
       "      <th>4</th>\n",
       "      <td>4</td>\n",
       "      <td>Lindsay Shonteff</td>\n",
       "    </tr>\n",
       "  </tbody>\n",
       "</table>\n",
       "</div>"
      ],
      "text/plain": [
       "   id_director            nombre\n",
       "0            0   Jürgen Böttcher\n",
       "1            1      Egon Günther\n",
       "2            2        Zdenek Tyc\n",
       "3            3       Arch Oboler\n",
       "4            4  Lindsay Shonteff"
      ]
     },
     "execution_count": 451,
     "metadata": {},
     "output_type": "execute_result"
    }
   ],
   "source": [
    "df_dict.head()"
   ]
  },
  {
   "cell_type": "code",
   "execution_count": 452,
   "metadata": {},
   "outputs": [],
   "source": [
    "df_dict.to_csv(\"datos/directores.csv\")"
   ]
  }
 ],
 "metadata": {
  "kernelspec": {
   "display_name": "Python 3",
   "language": "python",
   "name": "python3"
  },
  "language_info": {
   "codemirror_mode": {
    "name": "ipython",
    "version": 3
   },
   "file_extension": ".py",
   "mimetype": "text/x-python",
   "name": "python",
   "nbconvert_exporter": "python",
   "pygments_lexer": "ipython3",
   "version": "3.9.6"
  }
 },
 "nbformat": 4,
 "nbformat_minor": 2
}
